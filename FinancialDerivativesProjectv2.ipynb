{
 "cells": [
  {
   "cell_type": "markdown",
   "metadata": {},
   "source": [
    "# Financial Derivatives Project"
   ]
  },
  {
   "cell_type": "code",
   "execution_count": 1,
   "metadata": {},
   "outputs": [
    {
     "name": "stdout",
     "output_type": "stream",
     "text": [
      "Requirement already satisfied: qutip in /Users/Dillon/anaconda3/lib/python3.7/site-packages (4.3.1)\n",
      "Requirement already satisfied: numpy>=1.8 in /Users/Dillon/anaconda3/lib/python3.7/site-packages (from qutip) (1.15.4)\n",
      "Requirement already satisfied: cython>=0.21 in /Users/Dillon/anaconda3/lib/python3.7/site-packages (from qutip) (0.29.2)\n",
      "Requirement already satisfied: scipy>=0.15 in /Users/Dillon/anaconda3/lib/python3.7/site-packages (from qutip) (1.1.0)\n"
     ]
    }
   ],
   "source": [
    "!pip install qutip"
   ]
  },
  {
   "cell_type": "code",
   "execution_count": 16,
   "metadata": {},
   "outputs": [],
   "source": [
    "import os\n",
    "import sys\n",
    "\n",
    "from qutip import *\n",
    "from qiskit import (\n",
    "    QuantumCircuit, QuantumRegister, ClassicalRegister, Aer,\n",
    "    execute\n",
    ")\n",
    "from qiskit.tools.visualization import plot_histogram\n",
    "\n",
    "assert sys.version_info >= (3,5), \"Only Python 3.5 or greater supported.\"\n",
    "\n",
    "# import state tomography functions\n",
    "from qiskit.tools.visualization import plot_histogram, plot_state\n",
    "\n",
    "import numpy as np\n",
    "import matplotlib.pyplot as plt\n",
    "from IPython.display import Image\n",
    "\n",
    "from IPython.core.interactiveshell import InteractiveShell\n",
    "InteractiveShell.ast_node_interactivity = \"all\""
   ]
  },
  {
   "cell_type": "code",
   "execution_count": 17,
   "metadata": {},
   "outputs": [
    {
     "data": {
      "text/plain": [
       "5.295705244926335"
      ]
     },
     "execution_count": 17,
     "metadata": {},
     "output_type": "execute_result"
    }
   ],
   "source": [
    "T = 60/365 # maturity date in # years from time 0\n",
    "S0 = 2.50 # starting price of derivative at time 0\n",
    "K = 3.00 # strike price of derivative, can be executed at time T\n",
    "sigma = 0.3 # volatility of 30%\n",
    "r = 0.05 # annual interest rate\n",
    "\n",
    "\n",
    "# pg. 7, equation (35) from paper\n",
    "def prob_density(x):\n",
    "    p_j = (1/np.sqrt(2*np.pi*T))*np.exp(-x**2/(2*T))\n",
    "    return p_j\n",
    "\n",
    "# pg. 7 equation (36)\n",
    "def payoff(x):\n",
    "    v_x = np.maximum(0,(S0*np.exp(sigma*x+r-0.5*sigma**2)*T - K))\n",
    "    return v_x\n",
    "payoff(10)"
   ]
  },
  {
   "cell_type": "markdown",
   "metadata": {},
   "source": [
    "Dillon Work April 28th"
   ]
  },
  {
   "cell_type": "markdown",
   "metadata": {},
   "source": [
    "R|x⟩|0⟩ = |x⟩ (sqrt(1 − v(x)) |0⟩ +􏰒 sqrt(v(x)) |1⟩)"
   ]
  },
  {
   "cell_type": "markdown",
   "metadata": {},
   "source": [
    "The n + 1 qubit phase estimation unitary is written in terms of F := R(A ⊗ I2), and the simple rotation unitaries Z := I_2n+1 − 2|0^(n+1)⟩⟨0^(n+1)| and V := I2n+1 −2I2n ⊗|1⟩⟨1|."
   ]
  },
  {
   "cell_type": "code",
   "execution_count": 18,
   "metadata": {},
   "outputs": [
    {
     "data": {
      "text/latex": [
       "Quantum object: dims = [[8], [8]], shape = (8, 8), type = oper, isherm = True\\begin{equation*}\\left(\\begin{array}{*{11}c}-1.0 & 0.0 & 0.0 & 0.0 & 0.0 & 0.0 & 0.0 & 0.0\\\\0.0 & 1.0 & 0.0 & 0.0 & 0.0 & 0.0 & 0.0 & 0.0\\\\0.0 & 0.0 & 1.0 & 0.0 & 0.0 & 0.0 & 0.0 & 0.0\\\\0.0 & 0.0 & 0.0 & 1.0 & 0.0 & 0.0 & 0.0 & 0.0\\\\0.0 & 0.0 & 0.0 & 0.0 & 1.0 & 0.0 & 0.0 & 0.0\\\\0.0 & 0.0 & 0.0 & 0.0 & 0.0 & 1.0 & 0.0 & 0.0\\\\0.0 & 0.0 & 0.0 & 0.0 & 0.0 & 0.0 & 1.0 & 0.0\\\\0.0 & 0.0 & 0.0 & 0.0 & 0.0 & 0.0 & 0.0 & 1.0\\\\\\end{array}\\right)\\end{equation*}"
      ],
      "text/plain": [
       "Quantum object: dims = [[8], [8]], shape = (8, 8), type = oper, isherm = True\n",
       "Qobj data =\n",
       "[[-1.  0.  0.  0.  0.  0.  0.  0.]\n",
       " [ 0.  1.  0.  0.  0.  0.  0.  0.]\n",
       " [ 0.  0.  1.  0.  0.  0.  0.  0.]\n",
       " [ 0.  0.  0.  1.  0.  0.  0.  0.]\n",
       " [ 0.  0.  0.  0.  1.  0.  0.  0.]\n",
       " [ 0.  0.  0.  0.  0.  1.  0.  0.]\n",
       " [ 0.  0.  0.  0.  0.  0.  1.  0.]\n",
       " [ 0.  0.  0.  0.  0.  0.  0.  1.]]"
      ]
     },
     "execution_count": 18,
     "metadata": {},
     "output_type": "execute_result"
    },
    {
     "data": {
      "text/latex": [
       "Quantum object: dims = [[8], [8]], shape = (8, 8), type = oper, isherm = True\\begin{equation*}\\left(\\begin{array}{*{11}c}1.0 & 0.0 & 0.0 & 0.0 & 0.0 & 0.0 & 0.0 & 0.0\\\\0.0 & -1.0 & 0.0 & 0.0 & 0.0 & 0.0 & 0.0 & 0.0\\\\0.0 & 0.0 & 1.0 & 0.0 & 0.0 & 0.0 & 0.0 & 0.0\\\\0.0 & 0.0 & 0.0 & -1.0 & 0.0 & 0.0 & 0.0 & 0.0\\\\0.0 & 0.0 & 0.0 & 0.0 & 1.0 & 0.0 & 0.0 & 0.0\\\\0.0 & 0.0 & 0.0 & 0.0 & 0.0 & -1.0 & 0.0 & 0.0\\\\0.0 & 0.0 & 0.0 & 0.0 & 0.0 & 0.0 & 1.0 & 0.0\\\\0.0 & 0.0 & 0.0 & 0.0 & 0.0 & 0.0 & 0.0 & -1.0\\\\\\end{array}\\right)\\end{equation*}"
      ],
      "text/plain": [
       "Quantum object: dims = [[8], [8]], shape = (8, 8), type = oper, isherm = True\n",
       "Qobj data =\n",
       "[[ 1.  0.  0.  0.  0.  0.  0.  0.]\n",
       " [ 0. -1.  0.  0.  0.  0.  0.  0.]\n",
       " [ 0.  0.  1.  0.  0.  0.  0.  0.]\n",
       " [ 0.  0.  0. -1.  0.  0.  0.  0.]\n",
       " [ 0.  0.  0.  0.  1.  0.  0.  0.]\n",
       " [ 0.  0.  0.  0.  0. -1.  0.  0.]\n",
       " [ 0.  0.  0.  0.  0.  0.  1.  0.]\n",
       " [ 0.  0.  0.  0.  0.  0.  0. -1.]]"
      ]
     },
     "execution_count": 18,
     "metadata": {},
     "output_type": "execute_result"
    }
   ],
   "source": [
    "n = 2 # number of qubits\n",
    "\n",
    "### building phase estimation unitary F\n",
    "#R = \n",
    "#A = \n",
    "\n",
    "#F = R*(tensor(A,qeye(2)))\n",
    "\n",
    "\n",
    "### rotation unitary 1 \n",
    "Z = qeye(2**(n+1)) - Qobj(2*np.outer(basis(2**(n+1),0).full(),basis(2**(n+1),0).dag().full()))\n",
    "Z\n",
    "### rotation unitary 2\n",
    "V_2 = tensor(2*qeye(2**n),Qobj(np.outer(basis(n,1).full(),basis(n,1).dag().full())))\n",
    "V_2.dims = [[8],[8]]\n",
    "V = qeye(2**(n+1)) -V_2\n",
    "V\n",
    "\n",
    "### final amplitude amplification gate\n",
    "#S = V*U*V\n",
    "#U = F*Z*F.dag()\n",
    "#G = U*S\n"
   ]
  },
  {
   "cell_type": "markdown",
   "metadata": {},
   "source": [
    "Zach Work May 4th Below"
   ]
  },
  {
   "cell_type": "markdown",
   "metadata": {},
   "source": [
    "The BSM price of a European option is given by equation (33)\n",
    "$$\\Pi = e^{-rT}\\mathbb{E_Q}[v(W_T)]$$"
   ]
  },
  {
   "cell_type": "code",
   "execution_count": 32,
   "metadata": {},
   "outputs": [],
   "source": [
    "import numpy as np\n",
    "from scipy.stats import norm\n",
    "\n",
    "# Payoff functionn Eq. (5)\n",
    "def v(S_T, k=K):\n",
    "    return max(0, S_T - k)\n",
    "\n",
    "# Probability Density Eq. 34\n",
    "def p_T(x,T):\n",
    "    return (1/np.sqrt(2*np.pi*T))*np.exp(-x**2/(2*T))\n",
    "\n",
    "# Get discrete sample to compress [-infty, infty] -> [-xmax, xmax]\n",
    "# Can specify qubits, global n by default\n",
    "def disc_points(T, sigma, num_stdv, N):\n",
    "    x_max =  num_stdv * np.sqrt(T)\n",
    "    xj = []\n",
    "    delta_x = 2 * x_max/((2 ** N) - 1)\n",
    "    for j in range(0, 2**N):\n",
    "        xj.append(-x_max + (j *  delta_x))\n",
    "    return xj\n",
    "\n",
    "def norm_disc_probs(xj, T):\n",
    "    # calculate normalizing constant\n",
    "    probs = [p_T(a, T) for a in xj]\n",
    "    c = sum(probs)\n",
    "    return [p_T(a, T)/c for a in xj]\n",
    "\n",
    "# Transforms the Zero ket into a superposition of \"j\"\n",
    "# Weighted by the square root of the nonrmalized discrete prob.\n",
    "# May be shape issues later.\n",
    "def G_on_zero(ndp, N):\n",
    "    G_out = np.sqrt(ndp[0]) * basis (2 ** N, 0)\n",
    "    for j in range(1, 2**N):\n",
    "        psi_j = np.sqrt(ndp[j]) * basis(2 ** N, j)\n",
    "        G_out = G_out + psi_j\n",
    "    return G_out.full()\n",
    "\n",
    "# Find G\n",
    "# Equation of the form G|0^n>= G_0\n",
    "# Eq. (35)\n",
    "def get_G(G_0, N):\n",
    "    G = np.identity(2 ** N)\n",
    "    for x in range(0, 2 ** N):\n",
    "        G[x, 0] = np.real(G_0.item(x, 0))\n",
    "    return G\n",
    "\n",
    "# v_euro(x): R->R relating brownian motion to option payoff\n",
    "# per Eq. (36)\n",
    "def v_euro(x, s_0 = S0, k = K, sigma = sigma, r = r, t=T):\n",
    "    return max(0, s_0 * np.exp(sigma * x + (r - 0.5 * sigma * sigma)*t) - k)\n",
    "\n",
    "# We need some circuit vtilde(j) that takes some state number $j$\n",
    "# that has a binary representation and transforms it to the output that\n",
    "# represents the payoff.\n",
    "# because we have the disc points calculated clasically in integer form we\n",
    "# can use v_euro. The entire operation is the R gate.\n",
    "\n",
    "\n"
   ]
  },
  {
   "cell_type": "code",
   "execution_count": 33,
   "metadata": {},
   "outputs": [
    {
     "data": {
      "text/plain": [
       "[<matplotlib.lines.Line2D at 0x1c25a75f28>]"
      ]
     },
     "execution_count": 33,
     "metadata": {},
     "output_type": "execute_result"
    },
    {
     "data": {
      "text/plain": [
       "[<matplotlib.lines.Line2D at 0x1a2557bf28>]"
      ]
     },
     "execution_count": 33,
     "metadata": {},
     "output_type": "execute_result"
    },
    {
     "data": {
      "text/plain": [
       "[<matplotlib.lines.Line2D at 0x1a2557bc88>]"
      ]
     },
     "execution_count": 33,
     "metadata": {},
     "output_type": "execute_result"
    },
    {
     "data": {
      "image/png": "[encoded data removed]",
      "text/plain": [
       "<Figure size 432x288 with 1 Axes>"
      ]
     },
     "metadata": {
      "needs_background": "light"
     },
     "output_type": "display_data"
    },
    {
     "name": "stdout",
     "output_type": "stream",
     "text": [
      "8\n",
      "dp\n",
      "[-0.8108848540793832, -0.5792034671995594, -0.34752208031973564, -0.11584069343991188, 0.11584069343991188, 0.34752208031973564, 0.5792034671995594, 0.8108848540793832]\n",
      "8\n",
      "Find G_0:\n",
      "[[0.17747501+0.j]\n",
      " [0.28963622+0.j]\n",
      " [0.40147945+0.j]\n",
      " [0.47268143+0.j]\n",
      " [0.47268143+0.j]\n",
      " [0.40147945+0.j]\n",
      " [0.28963622+0.j]\n",
      " [0.17747501+0.j]]\n",
      "(8, 1)\n",
      "(0.17747501028006774+0j)\n",
      "1.0\n"
     ]
    },
    {
     "data": {
      "text/plain": [
       "True"
      ]
     },
     "execution_count": 33,
     "metadata": {},
     "output_type": "execute_result"
    }
   ],
   "source": [
    "# Testing Functions Defined in [21]\n",
    "\n",
    "T = 60/365 # maturity date in # years from time 0\n",
    "S0 = 100 # starting price of derivative at time 0\n",
    "K = 95 # strike price of derivative, can be executed at time T\n",
    "sigma = 0.3 # volatility of 30%\n",
    "r = 0.05 # annual interest rate\n",
    "\n",
    "n = 3 # number of qubits\n",
    "\n",
    "# continuous plot resolution\n",
    "plt_res = 100\n",
    "\n",
    "# pseudo-continuous distribution\n",
    "norm_dist = []\n",
    "rng = np.linspace(-1, 1, plt_res)\n",
    "for x in rng:\n",
    "    norm_dist.append(p_T(x, T))\n",
    "    \n",
    "plt.plot(rng, norm_dist)\n",
    "\n",
    "# discrete poinnts\n",
    "dp = disc_points(T, sigma, 2, n)\n",
    "dptest = dp\n",
    "\n",
    "# normalizeed discrete probabilities\n",
    "norm_probs = norm_disc_probs(dp, T)\n",
    "nptest = norm_probs\n",
    "\n",
    "# plot discrete probs\n",
    "plt.plot(dp, norm_probs, 'ro')\n",
    "\n",
    "# show original probs for illustration\n",
    "plt.plot(dp, [(p_T(a, T)) for a in dp], 'go')\n",
    "plt.show()\n",
    "\n",
    "print(len(dp))\n",
    "print(\"dp\")\n",
    "print(dp)\n",
    "print(len(norm_probs))\n",
    "\n",
    "G_0 = G_on_zero(norm_probs, n)\n",
    "print(\"Find G_0:\")\n",
    "print(G_0)\n",
    "print(shape(G_0))\n",
    "print(G_0[0][0])\n",
    "# print(\"Find G st. G|0^n> -> G_0\")\n",
    "G = get_G(G_0, n)\n",
    "# print(G)\n",
    "\n",
    "# CHECK\n",
    "print(sum(norm_probs))\n",
    "\n",
    "np.allclose(G @ basis(2 ** n , 0).full(), G_0)"
   ]
  },
  {
   "cell_type": "code",
   "execution_count": 34,
   "metadata": {},
   "outputs": [
    {
     "name": "stdout",
     "output_type": "stream",
     "text": [
      "Classical Monte Carlo Price 7.937739\n"
     ]
    }
   ],
   "source": [
    "# Classical monte carlo estimation to make sure our distro loaded correctly\n",
    "# Uses Law of Total Probability\n",
    "pr = 0\n",
    "\n",
    "# print(\"DP\")\n",
    "# print(dp)\n",
    "# print(\"NormProbs\")\n",
    "# print(norm_probs)\n",
    "\n",
    "for x in range(len(dp)):\n",
    "    vj = max(0, S0 * np.exp(sigma * dp[x] + (r - .5 * sigma * sigma)*T) - K)\n",
    "    pr += vj * norm_probs[x]\n",
    "print(\"Classical Monte Carlo Price %f\" % pr)\n",
    "# THIS VALUE SHOULD BE VERY CLOSE TO THE BS VALUE\n",
    "# Indicates Distro Loaded Correctly"
   ]
  },
  {
   "cell_type": "code",
   "execution_count": 35,
   "metadata": {},
   "outputs": [
    {
     "name": "stdout",
     "output_type": "stream",
     "text": [
      "Quantum object: dims = [[8, 2], [1, 1]], shape = (16, 1), type = ket\n",
      "Qobj data =\n",
      "[[0.17747501+0.j        ]\n",
      " [0.        +0.j        ]\n",
      " [0.28963622+0.j        ]\n",
      " [0.        +0.j        ]\n",
      " [0.40147945+0.j        ]\n",
      " [0.        +0.j        ]\n",
      " [0.        +0.38513781j]\n",
      " [0.60972032+0.j        ]\n",
      " [0.        +1.30493j   ]\n",
      " [1.38790131+0.j        ]\n",
      " [0.        +1.55905305j]\n",
      " [1.60991682+0.j        ]\n",
      " [0.        +1.39130799j]\n",
      " [1.42113583+0.j        ]\n",
      " [0.        +0.99837518j]\n",
      " [1.01402682+0.j        ]]\n",
      "7.937738512523552\n"
     ]
    }
   ],
   "source": [
    "# Eq. (39)\n",
    "G_on_0 = G @ basis(2 ** n, 0).full()\n",
    "# Eq. (40)\n",
    "# list(map(v_euro, dp))\n",
    "\n",
    "def v(x):\n",
    "        return max(0, S0 * np.exp((sigma * x) + (r - 0.5 * sigma * sigma)*T) - K)\n",
    "\n",
    "# Calculate chi per Eq. (40)\n",
    "# Would be R gate, instead we calculate the value of each state clasically\n",
    "def get_Chi(G_0, xj, pj, n, v):\n",
    "    chi_out = tensor((np.sqrt(pj[0]) * basis (2 ** n, 0)),\\\n",
    "        (np.sqrt(1 - v(xj[0] + 0j)) * basis (2,0) + np.sqrt(v(xj[0])) * basis(2,1)))\n",
    "    for j in range(1, 2 ** n):\n",
    "        chi_out += tensor((np.sqrt(pj[j]) * basis (2 ** n, j)),\\\n",
    "        (np.sqrt(1 - v(xj[j] + 0j)) * basis (2,0) + np.sqrt(v(xj[j])) * basis(2,1)))\n",
    "    return chi_out\n",
    "\n",
    "\n",
    "chi = get_Chi(G_on_0, dp, norm_probs, n, v)\n",
    "print(chi)\n",
    "\n",
    "# # Get expectation by measuring chi in state |1>\n",
    "def mu(chi, n):\n",
    "    return np.real((chi.dag() * (tensor(qeye(2 **n), basis(2,1) * basis(2,1).dag())) * chi)[0,0])\n",
    "                        \n",
    "print(mu(chi, n))\n",
    "                        \n",
    "                        \n",
    "                        \n",
    "                        "
   ]
  },
  {
   "cell_type": "code",
   "execution_count": 36,
   "metadata": {
    "scrolled": true
   },
   "outputs": [
    {
     "name": "stdout",
     "output_type": "stream",
     "text": [
      "7.872764209579816\n",
      "8.150006331239837\n"
     ]
    }
   ],
   "source": [
    "# One Function to Price Option\n",
    "\n",
    "def Quantum_Price(S, K, T, r, sigma, qubits):\n",
    "    def v_euro(x):\n",
    "        return max(0, S * np.exp((sigma * x) + (r - 0.5 * sigma * sigma)*T) - K)\n",
    "    dp = disc_points(T, sigma, 2, qubits)\n",
    "    norm_probs = norm_disc_probs(dp, T)\n",
    "    G_0 = G_on_zero(norm_probs, qubits)\n",
    "    chi = get_Chi(G_0, dp, norm_probs, qubits, v_euro)\n",
    "    eq = mu(chi, qubits)\n",
    "    return eq * np.e ** (-r * T)\n",
    "\n",
    "print(Quantum_Price(100, 95, 60/365, 0.05, 0.3, 3))\n",
    "# print(Quantum_Price(10, 3, 60/365, 0.05, 0.25, 6))\n",
    "print(bs_price(100, 95, 60/365, 0.05, 0.3))"
   ]
  },
  {
   "cell_type": "code",
   "execution_count": 37,
   "metadata": {},
   "outputs": [
    {
     "name": "stdout",
     "output_type": "stream",
     "text": [
      "[[0.+0.j 1.+0.j 1.+0.j]]\n",
      "1\n",
      "2\n",
      "1\n",
      "[1, 0, 0]\n"
     ]
    },
    {
     "name": "stderr",
     "output_type": "stream",
     "text": [
      "/Users/Dillon/anaconda3/lib/python3.7/site-packages/ipykernel_launcher.py:51: ComplexWarning: Casting complex values to real discards the imaginary part\n"
     ]
    }
   ],
   "source": [
    "# Quantum Binary Arithmetic Utilities Per Appendix C\n",
    "\n",
    "# We can represent any integere a ≤ N = 2^m with m bits x_i, i =  0,...,m-1\n",
    "# s.t. a = 2^0(x_0) + 2^1(x_1) + ... + 2^{m-1}(x_{m-1})\n",
    "# We represent the number a in the basis state |a> = |x_0,...x_{m-1}>\n",
    "### NOTE PAPER SAYS UP TO x_m but they are incorrect\n",
    "\n",
    "#We can represent real numbers 0≤r≤1 using m bits b_i, i = 0,...,m-1 s.t.\n",
    "#  r = b_0/2 + b_1/4 +...+ b_{m-1}/2^m\n",
    "\n",
    "# For signed numbers utilize an ancillia qubit |s>\n",
    "\n",
    "# Eq. (C3)\n",
    "# Zero indexing does not correspond to rail notation in paper\n",
    "s = QubitCircuit(3)\n",
    "# cnot target ctrl\n",
    "s.add_gate(\"CNOT\", 2, 1)\n",
    "s.add_gate(\"CNOT\", 2, 0)\n",
    "# Generate Matrix\n",
    "U_sum = gate_sequence_product(s.propagators())\n",
    "SUM = U_sum.full()\n",
    "\n",
    "# Eq. (C4)\n",
    "# Zero indexing does not correspond to rail notation in paper\n",
    "cy = QubitCircuit(4)\n",
    "# NOTE: name tgt ctrl\n",
    "cy.add_gate(\"TOFFOLI\", 3, [1,2])\n",
    "cy.add_gate(\"CNOT\", 2,1)\n",
    "cy.add_gate(\"TOFFOLI\", 3, [0,2])\n",
    "U_cy = gate_sequence_product(cy.propagators())\n",
    "CY = U_cy.full()\n",
    "\n",
    "# print(\"SUM:\")\n",
    "# print(SUM)\n",
    "# print(\"CY:\")\n",
    "# print(\"CY\")\n",
    "\n",
    "# It can be shown that given some N, we can construct the ADD gate\n",
    "# which performs addition modulo N, using SUM and CYs see paper Ref.[40]\n",
    "# However here we opt to implement it using classical tricks.\n",
    "# FURTHER WORK\n",
    "# Input 2 numbers < N = 2^m\n",
    "# Output gate:= |a>|b> -> |a>|a+b mod N>\n",
    "# Eq. (C6)\n",
    "# This kinda sucks, but ran out of time\n",
    "def ADD_N_UTIL(a, b):\n",
    "    #np array to string\n",
    "    cry = 0\n",
    "    out_arr = [0] * len(a[0])\n",
    "    for x in range(len(a[0])):\n",
    "        z = int(a[0][x]) + int(b[0][x])\n",
    "        print(z)\n",
    "        if cry == 0:\n",
    "            if z == 2:\n",
    "                cry = 1\n",
    "                out_arr[x] = 0\n",
    "            else:\n",
    "                out_arr[x] = z\n",
    "        else:\n",
    "            z += cry\n",
    "            if z == 1:\n",
    "                cry = 0\n",
    "                out_arr = 1\n",
    "            elif z == 2:\n",
    "                cry = 1\n",
    "                out_arr[x] = 0\n",
    "            else:\n",
    "                cry = 1\n",
    "                out_arr[1]\n",
    "    return out_arr\n",
    "\n",
    "#Test ADD_N:\n",
    "# 6 + 3 =? 1\n",
    "a = Qobj([[0, 1, 1]]).full()\n",
    "b = Qobj([[1, 1, 0]]).full()\n",
    "\n",
    "print(a)\n",
    "\n",
    "x = ADD_N_UTIL(a, b)\n",
    "print(x)"
   ]
  },
  {
   "cell_type": "code",
   "execution_count": 38,
   "metadata": {},
   "outputs": [],
   "source": [
    "# got this online, forget where, lightly modified\n",
    "\n",
    "#Simple Black Scholes Estimator for Comparison\n",
    "def bs_price(S, K, T, r, sigma):\n",
    "    d1 = (np.log(S / K) + (r + 0.5 * sigma ** 2) * T) / (sigma * np.sqrt(T))\n",
    "    d2 = (np.log(S / K) + (r - 0.5 * sigma ** 2) * T) / (sigma * np.sqrt(T))\n",
    "    \n",
    "    call = (S * norm.cdf(d1, 0.0, 1.0) - K * np.exp(-r * T) * norm.cdf(d2, 0.0, 1.0))\n",
    "    \n",
    "    return call"
   ]
  },
  {
   "cell_type": "code",
   "execution_count": 39,
   "metadata": {},
   "outputs": [
    {
     "name": "stdout",
     "output_type": "stream",
     "text": [
      "K = 95\n",
      "Q = 4\n",
      "Q = 5\n",
      "Q = 6\n",
      "Q = 7\n",
      "Q = 8\n",
      "K = 96\n",
      "Q = 4\n",
      "Q = 5\n",
      "Q = 6\n",
      "Q = 7\n",
      "Q = 8\n",
      "K = 97\n",
      "Q = 4\n",
      "Q = 5\n",
      "Q = 6\n",
      "Q = 7\n",
      "Q = 8\n",
      "K = 98\n",
      "Q = 4\n",
      "Q = 5\n",
      "Q = 6\n",
      "Q = 7\n",
      "Q = 8\n",
      "K = 99\n",
      "Q = 4\n",
      "Q = 5\n",
      "Q = 6\n",
      "Q = 7\n",
      "Q = 8\n",
      "K = 100\n",
      "Q = 4\n",
      "Q = 5\n",
      "Q = 6\n",
      "Q = 7\n",
      "Q = 8\n",
      "K = 101\n",
      "Q = 4\n",
      "Q = 5\n",
      "Q = 6\n",
      "Q = 7\n",
      "Q = 8\n",
      "K = 102\n",
      "Q = 4\n",
      "Q = 5\n",
      "Q = 6\n",
      "Q = 7\n",
      "Q = 8\n",
      "K = 103\n",
      "Q = 4\n",
      "Q = 5\n",
      "Q = 6\n",
      "Q = 7\n",
      "Q = 8\n",
      "K = 104\n",
      "Q = 4\n",
      "Q = 5\n",
      "Q = 6\n",
      "Q = 7\n",
      "Q = 8\n"
     ]
    }
   ],
   "source": [
    "import time\n",
    "\n",
    "# Compare quantum algorithm with BS\n",
    "s = 100\n",
    "klow = 95\n",
    "khi = 105\n",
    "krng = range(klow, khi)\n",
    "T = 60/365\n",
    "sigma = 0.25\n",
    "r = 0.05\n",
    "qrng = range(4, 9)\n",
    "\n",
    "b_prices = [0] * len(krng)\n",
    "q_prices = [[0] * len(krng)] * len(qrng)\n",
    "\n",
    "for k in krng:\n",
    "    print(\"K = %d\" % k)\n",
    "    b_prices[k-klow] = bs_price(s, k, T, r, sigma)\n",
    "    for q in qrng:\n",
    "        print(\"Q = %d\"%q)\n",
    "        q_prices[q-4][k - klow] = Quantum_Price(s, k, T, r, sigma, q)"
   ]
  },
  {
   "cell_type": "code",
   "execution_count": null,
   "metadata": {},
   "outputs": [],
   "source": [
    "plt.plot(krng, b_prices)\n",
    "for i in range(len(qrng)):\n",
    "    plt.plot(krng, q_prices[i], 'ro')\n",
    "plt.show()\n",
    "print(q_prices)"
   ]
  },
  {
   "cell_type": "code",
   "execution_count": null,
   "metadata": {},
   "outputs": [],
   "source": []
  }
 ],
 "metadata": {
  "kernelspec": {
   "display_name": "Python 3",
   "language": "python",
   "name": "python3"
  },
  "language_info": {
   "codemirror_mode": {
    "name": "ipython",
    "version": 3
   },
   "file_extension": ".py",
   "mimetype": "text/x-python",
   "name": "python",
   "nbconvert_exporter": "python",
   "pygments_lexer": "ipython3",
   "version": "3.7.1"
  }
 },
 "nbformat": 4,
 "nbformat_minor": 2
}
